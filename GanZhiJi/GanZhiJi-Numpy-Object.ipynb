{
 "cells": [
  {
   "cell_type": "code",
   "execution_count": 1,
   "metadata": {
    "collapsed": true
   },
   "outputs": [],
   "source": [
    "import numpy as np"
   ]
  },
  {
   "cell_type": "code",
   "execution_count": 2,
   "metadata": {},
   "outputs": [],
   "source": [
    "class GanZhiJi:\n",
    "    #定义属性\n",
    "    def __init__(self):\n",
    "        self.W = None\n",
    "        self.b = 0\n",
    "        self.lr = 1\n",
    "    #定义算法\n",
    "    def fit(self,X,Y):\n",
    "        self.W = np.zeros(X.shape[1])\n",
    "        i = 0\n",
    "        while i < X.shape[0]:\n",
    "            if Y[i]*(np.dot(self.W,X.T[:,i])+self.b) <= 0:\n",
    "                self.W = self.W + self.lr*X.T[:,i]*Y[i]\n",
    "                self.b = self.b + self.lr*Y[i]\n",
    "                print(self.W,self.b)\n",
    "                i = 0\n",
    "            else:\n",
    "                i = i + 1"
   ]
  },
  {
   "cell_type": "code",
   "execution_count": 3,
   "metadata": {},
   "outputs": [
    {
     "name": "stdout",
     "output_type": "stream",
     "text": [
      "[3. 3.] 1\n",
      "[2. 2.] 0\n",
      "[1. 1.] -1\n",
      "[0. 0.] -2\n",
      "[3. 3.] -1\n",
      "[2. 2.] -2\n",
      "[1. 1.] -3\n",
      "[1. 1.] -3\n"
     ]
    }
   ],
   "source": [
    "X = np.array([[3,3],[4,3],[1,1]])\n",
    "Y = np.array([1,1,-1])\n",
    "\n",
    "prict = GanZhiJi()\n",
    "prict.fit(X,Y)\n",
    "print(prict.W,prict.b)"
   ]
  },
  {
   "cell_type": "code",
   "execution_count": null,
   "metadata": {
    "collapsed": true
   },
   "outputs": [],
   "source": []
  }
 ],
 "metadata": {
  "kernelspec": {
   "display_name": "Python [conda env:keras]",
   "language": "python",
   "name": "conda-env-keras-py"
  },
  "language_info": {
   "codemirror_mode": {
    "name": "ipython",
    "version": 3
   },
   "file_extension": ".py",
   "mimetype": "text/x-python",
   "name": "python",
   "nbconvert_exporter": "python",
   "pygments_lexer": "ipython3",
   "version": "3.6.2"
  }
 },
 "nbformat": 4,
 "nbformat_minor": 2
}
