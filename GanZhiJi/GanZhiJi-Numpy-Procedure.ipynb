{
 "cells": [
  {
   "cell_type": "code",
   "execution_count": 1,
   "metadata": {
    "collapsed": true
   },
   "outputs": [],
   "source": [
    "import numpy as np\n",
    "from matplotlib import pyplot as plt"
   ]
  },
  {
   "cell_type": "code",
   "execution_count": 2,
   "metadata": {},
   "outputs": [],
   "source": [
    "def GanZhiJi(X,Y,lr):\n",
    "    W = np.zeros([1,X.shape[1]])\n",
    "    b = 0\n",
    "    n = 0 \n",
    "    for i in range(len(X)):\n",
    "        if Y[i] == 1:\n",
    "            plt.plot(X[i,0],X[i,1],'o')\n",
    "        elif Y[i] == -1:\n",
    "            plt.plot(X[i,0],X[i,1],'*')\n",
    "    for j in range(len(X)):\n",
    "        while (np.dot(W,X.T[:,j])+b)*Y[j] <= 0:\n",
    "            for i in range(len(X)):\n",
    "                while (np.dot(W,X.T[:,i])+b)*Y[i] <= 0:\n",
    "                    W = W + lr*X.T[:,i]*Y[i]\n",
    "                    b = b + lr*Y[i]\n",
    "                    n = n + 1\n",
    "                    x = np.linspace(0,5,100)\n",
    "                    y = (-W[0,0]*x-b)/W[0,1]\n",
    "                    plt.plot(x, y, '-r')\n",
    "                    print('epoch=%d'%n,'\\n','W=',W,'b=',b)\n",
    "    return W , b\n"
   ]
  },
  {
   "cell_type": "code",
   "execution_count": 3,
   "metadata": {},
   "outputs": [],
   "source": [
    "X = np.array([[3,3],[4,3],[1,1]])\n",
    "Y = np.array([[1],[1],[-1]])"
   ]
  },
  {
   "cell_type": "code",
   "execution_count": 4,
   "metadata": {
    "scrolled": true
   },
   "outputs": [
    {
     "name": "stdout",
     "output_type": "stream",
     "text": [
      "epoch=1 \n",
      " W= [[3. 3.]] b= [1]\n",
      "epoch=2 \n",
      " W= [[2. 2.]] b= [0]\n",
      "epoch=3 \n",
      " W= [[1. 1.]] b= [-1]\n",
      "epoch=4 \n",
      " W= [[0. 0.]] b= [-2]\n",
      "epoch=5 \n",
      " W= [[3. 3.]] b= [-1]\n",
      "epoch=6 \n",
      " W= [[2. 2.]] b= [-2]\n",
      "epoch=7 \n",
      " W= [[1. 1.]] b= [-3]\n"
     ]
    },
    {
     "name": "stderr",
     "output_type": "stream",
     "text": [
      "D:\\Users\\asus\\anaconda3\\envs\\keras\\lib\\site-packages\\ipykernel\\__main__.py:18: RuntimeWarning: divide by zero encountered in true_divide\n"
     ]
    },
    {
     "data": {
      "image/png": "[encoded data removed]",
      "text/plain": [
       "<Figure size 432x288 with 1 Axes>"
      ]
     },
     "metadata": {},
     "output_type": "display_data"
    }
   ],
   "source": [
    "W,b = GanZhiJi(X,Y,1)"
   ]
  },
  {
   "cell_type": "code",
   "execution_count": null,
   "metadata": {
    "collapsed": true
   },
   "outputs": [],
   "source": []
  }
 ],
 "metadata": {
  "kernelspec": {
   "display_name": "Python [conda env:keras]",
   "language": "python",
   "name": "conda-env-keras-py"
  },
  "language_info": {
   "codemirror_mode": {
    "name": "ipython",
    "version": 3
   },
   "file_extension": ".py",
   "mimetype": "text/x-python",
   "name": "python",
   "nbconvert_exporter": "python",
   "pygments_lexer": "ipython3",
   "version": "3.6.2"
  }
 },
 "nbformat": 4,
 "nbformat_minor": 2
}
